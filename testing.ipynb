{
 "cells": [
  {
   "cell_type": "code",
   "execution_count": 1,
   "id": "ec6443cf-ea6d-4ca3-b080-23e16871017e",
   "metadata": {},
   "outputs": [],
   "source": [
    "import requests\n",
    "import tensorflow as tf\n",
    "import numpy as np\n",
    "import json\n",
    "import base64\n",
    "import requests\n",
    "from pprint import PrettyPrinter\n",
    "import pandas as pd"
   ]
  },
  {
   "cell_type": "code",
   "execution_count": 2,
   "id": "605df8fc-3495-49e8-afd5-2c8c8ba0d68c",
   "metadata": {},
   "outputs": [
    {
     "name": "stdout",
     "output_type": "stream",
     "text": [
      "{'model_version_status': [{'state': 'AVAILABLE',\n",
      "                           'status': {'error_code': 'OK', 'error_message': ''},\n",
      "                           'version': '1721189215'}]}\n"
     ]
    }
   ],
   "source": [
    "pp = PrettyPrinter()\n",
    "pp.pprint(requests.get(\"http://localhost:8080/v1/models/fakenews-detection-model\").json())"
   ]
  },
  {
   "cell_type": "code",
   "execution_count": 3,
   "id": "3bda2645-6def-4423-bba7-d0bbe74ef1f3",
   "metadata": {},
   "outputs": [],
   "source": [
    "def prepare_json(text):\n",
    "    feature_spec = {\n",
    "        # \"title\" --> feature key dari data\n",
    "        \"title\": tf.train.Feature(bytes_list=tf.train.BytesList(value=[bytes(text, \"utf-8\")]))\n",
    "    }\n",
    "    example = tf.train.Example(\n",
    "      features=tf.train.Features(feature=feature_spec)).SerializeToString()\n",
    "    result = [{'examples': {'b64': base64.b64encode(example).decode()}}]\n",
    "    \n",
    "    return json.dumps(\n",
    "        {\n",
    "            \"signature_name\":\"serving_default\",\n",
    "            \"instances\": result\n",
    "        }\n",
    "    )"
   ]
  },
  {
   "cell_type": "code",
   "execution_count": 4,
   "id": "637fd914-0416-4251-9962-eb7146bdcb46",
   "metadata": {},
   "outputs": [],
   "source": [
    "def get_predict(text):\n",
    "    json_data = prepare_json(text)\n",
    "    response = requests.post(\"http://localhost:8080/v1/models/fakenews-detection-model:predict\", data=json_data)\n",
    "    predict = response.json()[\"predictions\"][0][0]\n",
    "    return predict"
   ]
  },
  {
   "cell_type": "code",
   "execution_count": 17,
   "id": "fe7c2c77-bbbc-4199-a651-a0d364574f5e",
   "metadata": {},
   "outputs": [
    {
     "name": "stdout",
     "output_type": "stream",
     "text": [
      "News Title: covid 19 infection affect people to die\n",
      "FAKE\n",
      "Result: '0.307915419' \n"
     ]
    }
   ],
   "source": [
    "# text = \"GOP Senator Just Smacked Down The Most Punchable Alt-Right Nazi On The Internet\" # 1\n",
    "#text = \"May Brexit offer would hurt, cost EU citizens - EU parliament\" # 0\n",
    "text = \"covid 19 infection affect people to die\"\n",
    "\n",
    "predict = get_predict(text)\n",
    "\n",
    "print(f'News Title: {text}')\n",
    "print(f'REAL' if predict > 0.6 else f'FAKE')\n",
    "print(f\"Result: '{predict}' \")\n",
    "# Label (0 = fake and 1 = real)"
   ]
  }
 ],
 "metadata": {
  "kernelspec": {
   "display_name": "Python 3 (ipykernel)",
   "language": "python",
   "name": "python3"
  },
  "language_info": {
   "codemirror_mode": {
    "name": "ipython",
    "version": 3
   },
   "file_extension": ".py",
   "mimetype": "text/x-python",
   "name": "python",
   "nbconvert_exporter": "python",
   "pygments_lexer": "ipython3",
   "version": "3.9.2"
  }
 },
 "nbformat": 4,
 "nbformat_minor": 5
}
